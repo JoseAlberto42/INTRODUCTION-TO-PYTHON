{
  "nbformat": 4,
  "nbformat_minor": 0,
  "metadata": {
    "colab": {
      "name": "Untitled0.ipynb",
      "provenance": [],
      "authorship_tag": "ABX9TyMNBFBg4kgN8KZGg/0bYLa+",
      "include_colab_link": true
    },
    "kernelspec": {
      "name": "python3",
      "display_name": "Python 3"
    },
    "language_info": {
      "name": "python"
    }
  },
  "cells": [
    {
      "cell_type": "markdown",
      "metadata": {
        "id": "view-in-github",
        "colab_type": "text"
      },
      "source": [
        "<a href=\"https://colab.research.google.com/github/JoseAlberto42/INTRODUCTION-TO-PYTHON/blob/main/Untitled0.ipynb\" target=\"_parent\"><img src=\"https://colab.research.google.com/assets/colab-badge.svg\" alt=\"Open In Colab\"/></a>"
      ]
    },
    {
      "cell_type": "code",
      "metadata": {
        "id": "WcKUMHhH-Xvq"
      },
      "source": [
        "The History Of Python\n",
        "\n",
        "The history of Python begins with Guido Van Rossum starting its development in 1989 and starting to implement it in February 1991, at which time the first public version was published: 0.9.0.\n",
        "Version 1.0, which was released in January 1994, version 2.0 was released in October 2000, and version 3.0 was released in December 2008.\n",
        "This first release of Python already included classes with inheritance, exception handling, functions, and one of its key features: Modular operation. This allowed it to be a much cleaner and more accessible language for people with little programming knowledge. A feature that remains to this day.\n",
        "Until 2018, the development of this popular programming language was personally led by Van Rossum, but decided to depart and, since 2019, there are five people who decide how Python evolves and develops. a council that is renewed annually.\n",
        "By the time the first final version of Python came out, such was the popularity of this new programming language that was created comp.lang.python, a Python discussion forum that further multiplied its number of users. \n",
        "Version 1.0\n",
        "Python is a programming language that Van Rossum began to develop while working at CWI. It was this research center that released, in 1995, version 1.2 of Python. From now on, already detached from CWI, Van Rossum made the code even more accessible and by 2000, the core team of Python developers moved to BeOpen.com to form the BeOpen Python Labs team.\n",
        "Python 1.6.1 is the same as 1.6, with some bugs fixed and a new GPL-compatible license.\n",
        "\n",
        "Python version 1.6 had some problems with its license type until the Free Software Foundation (FSF) managed to change Python to a Free Software license, which would make it GPL-compatible. \n",
        "Version 2.0\n",
        "The second version of Python was released in October 2000. A new version that included list generation, one of the most important features of this programming language.\n",
        "In 2001, the Python Software Foundation is created, which from Python 2.1 owns all the code, documentation, and specifications of the language.\n",
        "Older than this new feature, this new version of Python also included a new system whereby programs were able to make cyclic references and thus Python could collect garbage within the code.\n",
        "\n",
        " Version 3.0\n",
        "The last major update to Python's history was in 2008 with the release of version 3.0, which was about to fix the major flaws in the design of this programming language.\n",
        "Although Python maintains its philosophy in this latest release, as a programming language it has accumulated new and redundant ways of programming a single element. Hence the need for new versions to eliminate these duplicate constructors.\n",
        "Python 3.0 breaks the backward compatibility of the language, as Python 2.x code does not necessarily have to run in Python 3.0 without any modification.\n",
        "The latest Python version 3 update was released this October 2020. This is version 3.9. This programming language will not be updated again until October 2021.\n",
        "\n",
        "Introduction to the print statement, if-else statement, and loops.\n",
        "The print () function is used to transfer data to the screen.\n",
        "Interactive interface (black window)\n",
        "* After entering the Python interpreter, there will automatically be >>>\n",
        "* Declaration: >>> print ('123)'\n",
        "Text interface\n",
        "* It is not necessary >>> Write the declaration directly\n",
        "* Declaration: print ('123)\n",
        "The print declaration can also be followed by multiple strings, separated by a comma \",\", which can be connected in an output string:\n",
        "* eg: 'print (' The quick brown fox ',' jumps over ',' the lazy dog ')\n",
        "* Result: The quick brown fox jumps over the lazy dog\n",
        "* print will print each string in turn, and a space will be generated when a comma \",\" is encountered. So the output string is written like this\n",
        "Note that the following are equivalent in the python2.X version:\n",
        "print (\"123\")\n",
        "print ('123')\n",
        "print '123' Explanation: print + space + \"123\"\n",
        "print \"123\" Explanation: print + space + \"123\"\n",
        "\n",
        "Note: After python3.X version, print becomes a function, syntaxprint '123' form has been removed (if you type in this way, a run-time error will be reported). In future learning, you will use print ('123'). Write a printed statement in the form of.\n",
        "The if statement is used to conditionally execute a statement or a block of statements. Conditions can be true or false, do one thing when the condition is true and another when the condition is false.\n",
        "The expression after the \"if\" is called the condition of the if statement. If the expression evaluates to true, the statement or statements that follow the 'if' clause are executed, and if the expression evaluates to a false value, the statement that follows the 'else' clause executes.\n",
        "A loop or cycle is a sequence of code instructions that is executed repeatedly, until the condition assigned to that loop is no longer met. The three most used loops in programming are the while loop, the for loop, and the do-while loop.\n",
        "The while statement tests a condition and executes the statement or statement block that appears after the while. Checking the condition and executing those statements will repeat until the condition is false.\n",
        "The while loop tests the condition before executing the code that follows while. The do ... while loop first executes the code and then tests the condition.\n",
        "The for loop is used frequently in C #.\n"
      ],
      "execution_count": null,
      "outputs": []
    }
  ]
}